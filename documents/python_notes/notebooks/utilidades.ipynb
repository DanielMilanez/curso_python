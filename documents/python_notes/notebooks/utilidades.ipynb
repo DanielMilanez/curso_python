{
 "cells": [
  {
   "cell_type": "code",
   "execution_count": 10,
   "metadata": {},
   "outputs": [
    {
     "data": {
      "text/plain": [
       "True"
      ]
     },
     "metadata": {},
     "output_type": "display_data"
    }
   ],
   "source": [
    "# ANY (qualquer, qualquer coisa) funciona de maneira familiar com o OR, caso qualquer um da lista tenha uma resposta positiva, o resultado será positivo\n",
    "\n",
    "resposta = any([False, False, True, False, False])\n",
    "print(resposta)\n"
   ]
  },
  {
   "cell_type": "code",
   "execution_count": 11,
   "metadata": {},
   "outputs": [
    {
     "name": "stdout",
     "output_type": "stream",
     "text": [
      "True\n"
     ]
    }
   ],
   "source": [
    "nomes = ('Luciano', '', '', '', '', '')\n",
    "\n",
    "resposta = any(nomes)\n",
    "print(resposta)\n"
   ]
  },
  {
   "cell_type": "code",
   "execution_count": 16,
   "metadata": {},
   "outputs": [
    {
     "data": {
      "text/plain": [
       "True"
      ]
     },
     "metadata": {},
     "output_type": "display_data"
    }
   ],
   "source": [
    "number = [2, 10, 11, 24]\n",
    "\n",
    "response = any(num % 2 != 0 for num in number)\n",
    "print(response)\n"
   ]
  },
  {
   "cell_type": "markdown",
   "metadata": {},
   "source": [
    "# Passo 01\n",
    "A principio precisamos criar uma lista de tuplas com todas as combinações de vitória possíveis.\n",
    "\n",
    "# Passo 02\n",
    "Cada tupla dentro da lista possui um indice e dentro do indice possui uma lista e eu consigo navegar os valores dentro dessa \"pequena lista\" pela navegação padrão temos que acessar o indice e o outro indice dentro do primeiro.\n",
    "\n",
    "# Passo 03\n",
    "Então ao referenciar o ABC dentro de um for, ele ja entende que será percorrido a lista de maneira implicita e so o que ele faz e pesquisar pelo segundo valor, o valor que está dentro do primeiro indice."
   ]
  },
  {
   "cell_type": "code",
   "execution_count": 22,
   "metadata": {
    "scrolled": true
   },
   "outputs": [
    {
     "name": "stdout",
     "output_type": "stream",
     "text": [
      "False\n"
     ]
    }
   ],
   "source": [
    "tab = [0, 1, 2, 3, 4, 5, 6, 7, 8]\n",
    "\n",
    "venceu = False\n",
    "vicotry_combine = [\n",
    "        (0, 1, 2),(3, 4, 5),(6, 7, 8),\n",
    "        (0, 3, 6),(1, 4, 7),(2, 5, 8),\n",
    "        (0, 4, 8),(2, 4, 6)\n",
    "    ]\n",
    "\n",
    "resposta = any(tab[a] == tab[b] == tab[c] for a, b, c in vicotry_combine)\n",
    "print(resposta)\n",
    "\n"
   ]
  },
  {
   "cell_type": "code",
   "execution_count": 1,
   "metadata": {},
   "outputs": [
    {
     "name": "stdout",
     "output_type": "stream",
     "text": [
      "False\n"
     ]
    }
   ],
   "source": [
    "# ALL para que ele funcione todos os elementos precisam ser verdadeiros.\n",
    "lista = [False, False, False]\n",
    "resposta = all(lista)\n",
    "\n",
    "print(resposta)"
   ]
  }
 ],
 "metadata": {
  "interpreter": {
   "hash": "2de7201ee1b3ac862ebf84a8e9d9995e6e99edc63b21e237ead7e6daff367611"
  },
  "kernelspec": {
   "display_name": "Python 3 (ipykernel)",
   "language": "python",
   "name": "python3"
  },
  "language_info": {
   "codemirror_mode": {
    "name": "ipython",
    "version": 3
   },
   "file_extension": ".py",
   "mimetype": "text/x-python",
   "name": "python",
   "nbconvert_exporter": "python",
   "pygments_lexer": "ipython3",
   "version": "3.12.5"
  }
 },
 "nbformat": 4,
 "nbformat_minor": 4
}
