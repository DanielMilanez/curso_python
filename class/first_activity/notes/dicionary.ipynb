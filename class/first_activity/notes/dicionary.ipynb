{
 "cells": [
  {
   "cell_type": "markdown",
   "metadata": {},
   "source": [
    "# Dicionário\n",
    "\n",
    "É um conjunto de chaves e valores que distinguem um objeto. Estas chaves nos chamamos de **KEYS** e seus valores chamamos de **VALUES**. É um tipo especial de variável python indentificada pelas \"{}\"."
   ]
  },
  {
   "cell_type": "code",
   "execution_count": 1,
   "metadata": {},
   "outputs": [
    {
     "name": "stdout",
     "output_type": "stream",
     "text": [
      "{'name': 'Daniel', 'idade': 19, 'cidade': 'Recife'}\n"
     ]
    }
   ],
   "source": [
    "pessoa = { # 'pessoa' é uma variável do tipo dicionário\n",
    "    'name': 'Daniel',\n",
    "    'idade': 19,\n",
    "    'cidade': 'Recife',\n",
    "}\n",
    "\n",
    "print(pessoa)"
   ]
  },
  {
   "cell_type": "markdown",
   "metadata": {},
   "source": [
    "Para printar a chave temos o metodo 'keys()' e para printar o valor temos o metodo 'values()'"
   ]
  },
  {
   "cell_type": "code",
   "execution_count": 2,
   "metadata": {},
   "outputs": [
    {
     "name": "stdout",
     "output_type": "stream",
     "text": [
      "dict_keys(['name', 'idade', 'cidade'])\n",
      "dict_values(['Daniel', 19, 'Recife'])\n"
     ]
    }
   ],
   "source": [
    "# Metodo KEYS()\n",
    "\n",
    "print(pessoa.keys())\n",
    "\n",
    "# Metodo VALUES()\n",
    "print(pessoa.values())"
   ]
  },
  {
   "cell_type": "markdown",
   "metadata": {},
   "source": [
    "É possível puxar valores expecificos!"
   ]
  },
  {
   "cell_type": "code",
   "execution_count": 4,
   "metadata": {},
   "outputs": [
    {
     "name": "stdout",
     "output_type": "stream",
     "text": [
      "19\n",
      "Daniel\n",
      "Recife\n"
     ]
    }
   ],
   "source": [
    "print(pessoa['idade'])\n",
    "print(pessoa['name'])\n",
    "print(pessoa['cidade'])"
   ]
  },
  {
   "cell_type": "code",
   "execution_count": 5,
   "metadata": {},
   "outputs": [
    {
     "name": "stdout",
     "output_type": "stream",
     "text": [
      "{'name': 'Daniel', 'idade': 19, 'cidade': 'Recife'}\n",
      "{'name': 'Daniel', 'idade': 19, 'cidade': 'Brasília'}\n"
     ]
    }
   ],
   "source": [
    "# Atribuindo um novo fvalor a uma chave\n",
    "print(pessoa)\n",
    "pessoa['cidade'] = 'Brasília'\n",
    "print(pessoa)"
   ]
  },
  {
   "cell_type": "code",
   "execution_count": 8,
   "metadata": {},
   "outputs": [
    {
     "name": "stdout",
     "output_type": "stream",
     "text": [
      "{'name': 'Daniel', 'idade': 19, 'cidade': 'Brasília', 'email': 'daniel@teste.com'}\n"
     ]
    }
   ],
   "source": [
    "# Incrementando novos valores nos dicionários, entrando no final\n",
    "pessoa['email'] = 'daniel@teste.com'\n",
    "print(pessoa)"
   ]
  },
  {
   "cell_type": "code",
   "execution_count": 9,
   "metadata": {},
   "outputs": [
    {
     "name": "stdout",
     "output_type": "stream",
     "text": [
      "{'name': 'Daniel', 'email': 'daniel@teste.com'}\n"
     ]
    }
   ],
   "source": [
    "# Excluindo a chave de algum dicionário\n",
    "# comando del deleta o usuário todo\n",
    "\n",
    "# deletando um valor expecifico\n",
    "del pessoa['idade']\n",
    "\n",
    "# mesmo resultado mas com o metodo pop\n",
    "pessoa.pop('cidade')\n",
    "\n",
    "print(pessoa)"
   ]
  },
  {
   "cell_type": "markdown",
   "metadata": {},
   "source": [
    "Conceito de lista de dicionários. Onde que cada dicionário fará parte do indice de uma lista."
   ]
  },
  {
   "cell_type": "code",
   "execution_count": 24,
   "metadata": {},
   "outputs": [
    {
     "name": "stdout",
     "output_type": "stream",
     "text": [
      "0 {'nome': 'Daniel', 'cidade': 'brazlândia'}\n",
      "1 {'nome': 'Marcos', 'cidade': 'brasilia'}\n",
      "2 {'nome': 'Luana', 'cidade': 'recanto'}\n",
      "3 {'nome': 'Francineide', 'cidade': 'ceilandia'}\n"
     ]
    }
   ],
   "source": [
    "alunos = [\n",
    "    {'nome': 'Daniel', 'cidade': 'brazlândia'},\n",
    "    {'nome': 'Marcos', 'cidade': 'brasilia'},\n",
    "    {'nome': 'Luana', 'cidade': 'recanto'},\n",
    "    {'nome': 'Francineide', 'cidade': 'ceilandia'}\n",
    "]\n",
    "\n",
    "for indice, aluno in enumerate(alunos):\n",
    "    print(indice, aluno)"
   ]
  },
  {
   "cell_type": "code",
   "execution_count": 27,
   "metadata": {},
   "outputs": [
    {
     "name": "stdout",
     "output_type": "stream",
     "text": [
      "{'nome': 'Luana', 'cidade': 'recanto'}\n",
      "Samambaia\n"
     ]
    }
   ],
   "source": [
    "print(alunos[2])\n",
    "\n",
    "alunos[2]['cidade'] = 'Samambaia'\n",
    "print(alunos[2]['cidade'])"
   ]
  },
  {
   "cell_type": "markdown",
   "metadata": {},
   "source": [
    "Dicionário de dicionários."
   ]
  },
  {
   "cell_type": "code",
   "execution_count": 28,
   "metadata": {},
   "outputs": [
    {
     "name": "stdout",
     "output_type": "stream",
     "text": [
      "{'Daniel': {'idade': 19, 'matricula': '12345'}, 'Luana': {'idade': 18, 'matricula': '12345'}, 'Gilmar': {'idade': 19, 'matricula': '12345'}, 'Felipe': {'idade': 15, 'matricula': '12345'}}\n"
     ]
    }
   ],
   "source": [
    "alunos_dicionario = {\n",
    "    'Daniel': {'idade': 19, 'matricula': '12345'},\n",
    "    'Luana': {'idade': 18,'matricula': '12345'},\n",
    "    'Gilmar': {'idade': 19, 'matricula': '12345'},\n",
    "    'Felipe': {'idade': 15,'matricula': '12345'}\n",
    "}\n",
    "\n",
    "print(alunos_dicionario)"
   ]
  },
  {
   "cell_type": "code",
   "execution_count": 30,
   "metadata": {},
   "outputs": [
    {
     "name": "stdout",
     "output_type": "stream",
     "text": [
      "15\n"
     ]
    }
   ],
   "source": [
    "print(alunos_dicionario['Felipe']['idade'])"
   ]
  }
 ],
 "metadata": {
  "interpreter": {
   "hash": "cc3bc4f6e84d6830463d70ac0115bd36d35e9de37b0787762855d24184280a5c"
  },
  "kernelspec": {
   "display_name": "Python 3.13.0rc1 64-bit (windows store)",
   "language": "python",
   "name": "python3"
  },
  "language_info": {
   "codemirror_mode": {
    "name": "ipython",
    "version": 3
   },
   "file_extension": ".py",
   "mimetype": "text/x-python",
   "name": "python",
   "nbconvert_exporter": "python",
   "pygments_lexer": "ipython3",
   "version": "3.12.5"
  },
  "orig_nbformat": 4
 },
 "nbformat": 4,
 "nbformat_minor": 2
}
